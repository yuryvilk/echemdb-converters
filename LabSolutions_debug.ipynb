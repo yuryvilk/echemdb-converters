{
 "cells": [
  {
   "cell_type": "code",
   "execution_count": 8,
   "metadata": {},
   "outputs": [],
   "source": [
    "# from echemdbconverters.csvloader import CSVloader\n",
    "from echemdbconverters.labsolutionsloader import LabSolutionsLoader\n",
    "from pathlib import Path"
   ]
  },
  {
   "cell_type": "code",
   "execution_count": 10,
   "metadata": {},
   "outputs": [],
   "source": [
    "# doc = Path(\"D:\\Research Data\\Yury Vilk\\OwnCloud\\PhD\\Analytics\\HPLC\\RawData\\Luis\\\\20220715\\LK005_df10_240min.txt\")\n",
    "doc = Path(\"/home/yury/ownCloud/PhD/Analytics/HPLC/RawData/Luis/20220715/LK005_df10_240min.txt\")\n",
    "# f = LabSolutionsLoader(doc.open())\n",
    "f = LabSolutionsLoader(doc.open())"
   ]
  },
  {
   "cell_type": "code",
   "execution_count": 11,
   "metadata": {},
   "outputs": [],
   "source": [
    "b = f.blocks"
   ]
  },
  {
   "cell_type": "markdown",
   "metadata": {},
   "source": [
    "CSVloader.get_loader('hplc').get_block('block').get_detector('detector')(file)"
   ]
  },
  {
   "cell_type": "code",
   "execution_count": null,
   "metadata": {},
   "outputs": [],
   "source": []
  }
 ],
 "metadata": {
  "kernelspec": {
   "display_name": "Python 3.9.0 ('.venv': venv)",
   "language": "python",
   "name": "python3"
  },
  "language_info": {
   "codemirror_mode": {
    "name": "ipython",
    "version": 3
   },
   "file_extension": ".py",
   "mimetype": "text/x-python",
   "name": "python",
   "nbconvert_exporter": "python",
   "pygments_lexer": "ipython3",
   "version": "3.9.0"
  },
  "orig_nbformat": 4,
  "vscode": {
   "interpreter": {
    "hash": "7029fe70987c9f2c7053d2678c0e55142e5d4093c4576b04658ca97f5d5169a7"
   }
  }
 },
 "nbformat": 4,
 "nbformat_minor": 2
}
